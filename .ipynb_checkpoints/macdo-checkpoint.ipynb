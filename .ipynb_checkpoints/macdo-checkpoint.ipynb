{
 "cells": [
  {
   "cell_type": "code",
   "execution_count": 2,
   "id": "698d9e6b",
   "metadata": {},
   "outputs": [
    {
     "data": {
      "text/html": [
       "<style>.container { width:100% !important; }</style>"
      ],
      "text/plain": [
       "<IPython.core.display.HTML object>"
      ]
     },
     "metadata": {},
     "output_type": "display_data"
    }
   ],
   "source": [
    "from IPython.display import display, HTML\n",
    "display(HTML(\"<style>.container { width:100% !important; }</style>\"))"
   ]
  },
  {
   "cell_type": "code",
   "execution_count": 13,
   "id": "caf40afe",
   "metadata": {},
   "outputs": [],
   "source": [
    "from selenium.webdriver.support.ui import Select\n",
    "from selenium.webdriver.support.select import Select\n",
    "from selenium.webdriver.common.keys import Keys\n",
    "from selenium import webdriver\n",
    "import time\n",
    "import pandas as pd"
   ]
  },
  {
   "cell_type": "code",
   "execution_count": null,
   "id": "86333c2d",
   "metadata": {},
   "outputs": [],
   "source": [
    "driver = webdriver.Chrome(executable_path= r'./chromedriver_win32/chromedriver')\n",
    "driver.get('https://www.mcdonalds.co.kr/kor/store/main.do')\n",
    "time.sleep(2)\n",
    "\n"
   ]
  },
  {
   "cell_type": "code",
   "execution_count": 14,
   "id": "a20fcd78",
   "metadata": {},
   "outputs": [],
   "source": [
    "id = [\"서울\"]\n",
    "for i in range(len(id)):\n",
    "    driver.find_element_by_xpath('//*[@id=\"searchWord\"]').send_keys(id[0])\n",
    "    driver.find_element_by_xpath('//*[@id=\"searchWord\"]').send_keys(Keys.ENTER)\n",
    "    \n",
    "    "
   ]
  },
  {
   "cell_type": "code",
   "execution_count": 42,
   "id": "4d80c46f",
   "metadata": {
    "scrolled": true
   },
   "outputs": [
    {
     "name": "stdout",
     "output_type": "stream",
     "text": [
      "강남 2호점 서울 강남구 역삼동 822-2 서울 강남구 테헤란로 107 메디타워2층 08:00~24:00\n",
      "성균관대 서울 종로구 명륜2가 197-1 서울 종로구 창경궁로 241-1 08:00~24:00\n",
      "연세대점 서울 서대문구 창천동 33-12 서울 서대문구 연세로 33 24시간\n",
      "어린이대공원점 서울 광진구 화양동 212 서울 광진구 광나루로 392 09:00~02:00\n",
      "이수점 서울 동작구 사당동 147-29 서울 동작구 사당로 300 (사당동)  07:00~22:00\n",
      "선릉 서울 강남구 역삼동 707-27 서울 강남구 테헤란로 326 아이타워 1층 맥도날드 08:00~24:00\n",
      "은평이마트 서울 은평구 응암동 90-1 서울 은평구 은평로 111 은평이마트 8층 맥도날드 10:00~22:00 2,4째주 일요일 휴무\n",
      "양재 서울 서초구 양재동 24 서울 서초구 강남대로 213 07:00~24:00\n",
      "가락DT점 서울 송파구 가락동 193-7 서울 송파구 동남로 196 07:00~24:00\n",
      "연신내 서울 은평구 갈현동 456-28 서울 은평구 연서로 213 24시간\n",
      "신내 서울 중랑구 신내동 666 서울 중랑구 봉화산로 194 신아타운1층 신내 맥도날드 24시간\n",
      "중랑 서울 중랑구 상봉동 130-166 서울 중랑구 망우로 202 동성빌딩 08:00~24:00\n",
      "안암 서울 성북구 안암동5가 102-33 서울 성북구 고려대로24길 42 방주빌딩 24시간\n",
      "신월DT 서울 양천구 신월동 199-3 서울 양천구 남부순환로 404 24시간\n",
      "염창 DT점 서울 강서구 염창동 280-11 서울 강서구 공항대로71길 3 (염창동)  07:00~24:00\n",
      "상일동점 서울 강동구 상일동 502 서울 강동구 상일로6길 39 07:00~22:00\n",
      "서울번동DT점 서울 강북구 번동 106 서울특별시 강북구 월계로 191 07:00~02:00\n",
      "고척DT 서울 구로구 고척동 73-20 서울 구로구 경인로 393 07:00~02:00\n",
      "강남삼성DT 서울 강남구 삼성동 113-7 서울 강남구 봉은사로 432 07:00~22:00\n",
      "서울시청 서울 중구 을지로1가 32 서울 중구 남대문로9길 51 효덕빌딩 07:00~24:00\n"
     ]
    }
   ],
   "source": [
    "name = []\n",
    "add1 = []\n",
    "add2 = []\n",
    "time = []\n",
    "\n",
    "while True:\n",
    "    try:\n",
    "        for ind in range(1,11):\n",
    "            driver.find_element_by_xpath('//*[@id=\"container\"]/div[1]/div[2]/div/div/div[2]/div/span/a['+str(ind)+']').send_keys(Keys.ENTER)\n",
    "            for i in range(1,6):\n",
    "                n = driver.find_element_by_xpath('//*[@id=\"container\"]/div[1]/div[2]/div/div/div[2]/table/tbody/tr['+str(i)+']/td[1]/dl/dt/strong/a').text\n",
    "                a1 = driver.find_element_by_xpath('//*[@id=\"container\"]/div[1]/div[2]/div/div/div[2]/table/tbody/tr['+str(i)+']/td[1]/dl/dd[1]').text\n",
    "                a2 = driver.find_element_by_xpath('//*[@id=\"container\"]/div[1]/div[2]/div/div/div[2]/table/tbody/tr['+str(i)+']/td[1]/dl/dd[2]').text\n",
    "                t = driver.find_element_by_xpath('//*[@id=\"container\"]/div[1]/div[2]/div/div/div[2]/table/tbody/tr['+str(i)+']/td[3]').text\n",
    "#                 if i==1:\n",
    "#                     print(n,a1,a2,t)\n",
    "                name.append(n)\n",
    "                add1.append(a1)\n",
    "                add2.append(a2)\n",
    "                time.append(t)\n",
    "        driver.find_element_by_xpath('//*[@id=\"container\"]/div[1]/div[2]/div/div/div[2]/div/a[3]').send_keys(Keys.ENTER)\n",
    "    except:\n",
    "        break"
   ]
  },
  {
   "cell_type": "code",
   "execution_count": 43,
   "id": "f96c651d",
   "metadata": {},
   "outputs": [
    {
     "name": "stdout",
     "output_type": "stream",
     "text": [
      "finish\n"
     ]
    },
    {
     "data": {
      "text/html": [
       "<div>\n",
       "<style scoped>\n",
       "    .dataframe tbody tr th:only-of-type {\n",
       "        vertical-align: middle;\n",
       "    }\n",
       "\n",
       "    .dataframe tbody tr th {\n",
       "        vertical-align: top;\n",
       "    }\n",
       "\n",
       "    .dataframe thead th {\n",
       "        text-align: right;\n",
       "    }\n",
       "</style>\n",
       "<table border=\"1\" class=\"dataframe\">\n",
       "  <thead>\n",
       "    <tr style=\"text-align: right;\">\n",
       "      <th></th>\n",
       "      <th>name</th>\n",
       "      <th>add1</th>\n",
       "      <th>add2</th>\n",
       "      <th>time</th>\n",
       "    </tr>\n",
       "  </thead>\n",
       "  <tbody>\n",
       "    <tr>\n",
       "      <th>0</th>\n",
       "      <td>강남 2호점</td>\n",
       "      <td>서울 강남구 역삼동 822-2</td>\n",
       "      <td>서울 강남구 테헤란로 107 메디타워2층</td>\n",
       "      <td>08:00~24:00</td>\n",
       "    </tr>\n",
       "    <tr>\n",
       "      <th>1</th>\n",
       "      <td>미아역</td>\n",
       "      <td>서울 강북구 미아동 197-5</td>\n",
       "      <td>서울 강북구 도봉로 204 미아역 맥도날드</td>\n",
       "      <td>07:00~02:00</td>\n",
       "    </tr>\n",
       "    <tr>\n",
       "      <th>2</th>\n",
       "      <td>마리오 아울렛</td>\n",
       "      <td>서울 금천구 가산동 60-22</td>\n",
       "      <td>서울 금천구 디지털로 185 마리오아울렛1</td>\n",
       "      <td>09:00~22:00</td>\n",
       "    </tr>\n",
       "    <tr>\n",
       "      <th>3</th>\n",
       "      <td>등촌 DT</td>\n",
       "      <td>서울 강서구 등촌동 630</td>\n",
       "      <td>서울 강서구 양천로 546</td>\n",
       "      <td>24시간</td>\n",
       "    </tr>\n",
       "    <tr>\n",
       "      <th>4</th>\n",
       "      <td>잠실역</td>\n",
       "      <td>서울 송파구 신천동 7-25</td>\n",
       "      <td>서울 송파구 송파대로 558</td>\n",
       "      <td>06:00 ~ 24:00</td>\n",
       "    </tr>\n",
       "    <tr>\n",
       "      <th>...</th>\n",
       "      <td>...</td>\n",
       "      <td>...</td>\n",
       "      <td>...</td>\n",
       "      <td>...</td>\n",
       "    </tr>\n",
       "    <tr>\n",
       "      <th>91</th>\n",
       "      <td>동묘</td>\n",
       "      <td>서울 종로구 창신동 290</td>\n",
       "      <td>서울 종로구 종로 339</td>\n",
       "      <td>24시간</td>\n",
       "    </tr>\n",
       "    <tr>\n",
       "      <th>92</th>\n",
       "      <td>망원점</td>\n",
       "      <td>서울 마포구 망원동 377-19</td>\n",
       "      <td>서울 마포구 월드컵로 81 (망원동)</td>\n",
       "      <td>24시간</td>\n",
       "    </tr>\n",
       "    <tr>\n",
       "      <th>93</th>\n",
       "      <td>위례신도시</td>\n",
       "      <td>서울 송파구 장지동 896</td>\n",
       "      <td>서울 송파구 위례광장로 290번지 위례중앙푸르지오 2단지</td>\n",
       "      <td>24시간</td>\n",
       "    </tr>\n",
       "    <tr>\n",
       "      <th>94</th>\n",
       "      <td>세이브존 노원</td>\n",
       "      <td>서울 노원구 하계동 284</td>\n",
       "      <td>서울 노원구 한글비석로 57 (하계동)</td>\n",
       "      <td>07:00~01:00</td>\n",
       "    </tr>\n",
       "    <tr>\n",
       "      <th>95</th>\n",
       "      <td>서울시청</td>\n",
       "      <td>서울 중구 을지로1가 32</td>\n",
       "      <td>서울 중구 남대문로9길 51 효덕빌딩</td>\n",
       "      <td>07:00~24:00</td>\n",
       "    </tr>\n",
       "  </tbody>\n",
       "</table>\n",
       "<p>96 rows × 4 columns</p>\n",
       "</div>"
      ],
      "text/plain": [
       "       name               add1                             add2           time\n",
       "0    강남 2호점   서울 강남구 역삼동 822-2           서울 강남구 테헤란로 107 메디타워2층    08:00~24:00\n",
       "1       미아역   서울 강북구 미아동 197-5          서울 강북구 도봉로 204 미아역 맥도날드    07:00~02:00\n",
       "2   마리오 아울렛   서울 금천구 가산동 60-22          서울 금천구 디지털로 185 마리오아울렛1    09:00~22:00\n",
       "3     등촌 DT     서울 강서구 등촌동 630                   서울 강서구 양천로 546           24시간\n",
       "4       잠실역    서울 송파구 신천동 7-25                  서울 송파구 송파대로 558  06:00 ~ 24:00\n",
       "..      ...                ...                              ...            ...\n",
       "91       동묘     서울 종로구 창신동 290                    서울 종로구 종로 339           24시간\n",
       "92      망원점  서울 마포구 망원동 377-19             서울 마포구 월드컵로 81 (망원동)           24시간\n",
       "93    위례신도시     서울 송파구 장지동 896  서울 송파구 위례광장로 290번지 위례중앙푸르지오 2단지           24시간\n",
       "94  세이브존 노원     서울 노원구 하계동 284            서울 노원구 한글비석로 57 (하계동)    07:00~01:00\n",
       "95     서울시청     서울 중구 을지로1가 32             서울 중구 남대문로9길 51 효덕빌딩    07:00~24:00\n",
       "\n",
       "[96 rows x 4 columns]"
      ]
     },
     "execution_count": 43,
     "metadata": {},
     "output_type": "execute_result"
    }
   ],
   "source": [
    "df = pd.DataFrame({'name':name,'add1':add1,'add2':add2,'time':time})\n",
    "df.to_csv('seoul_mac.csv',index=False)\n",
    "print('finish')\n",
    "df\n"
   ]
  },
  {
   "cell_type": "code",
   "execution_count": null,
   "id": "4285d12a",
   "metadata": {},
   "outputs": [],
   "source": []
  }
 ],
 "metadata": {
  "kernelspec": {
   "display_name": "Python 3 (ipykernel)",
   "language": "python",
   "name": "python3"
  },
  "language_info": {
   "codemirror_mode": {
    "name": "ipython",
    "version": 3
   },
   "file_extension": ".py",
   "mimetype": "text/x-python",
   "name": "python",
   "nbconvert_exporter": "python",
   "pygments_lexer": "ipython3",
   "version": "3.9.12"
  }
 },
 "nbformat": 4,
 "nbformat_minor": 5
}
