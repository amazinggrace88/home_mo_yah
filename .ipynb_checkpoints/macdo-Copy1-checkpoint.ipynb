{
 "cells": [
  {
   "cell_type": "code",
   "execution_count": 1,
   "id": "698d9e6b",
   "metadata": {},
   "outputs": [
    {
     "data": {
      "text/html": [
       "<style>.container { width:100% !important; }</style>"
      ],
      "text/plain": [
       "<IPython.core.display.HTML object>"
      ]
     },
     "metadata": {},
     "output_type": "display_data"
    }
   ],
   "source": [
    "from IPython.display import display, HTML\n",
    "display(HTML(\"<style>.container { width:100% !important; }</style>\"))"
   ]
  },
  {
   "cell_type": "code",
   "execution_count": 12,
   "id": "caf40afe",
   "metadata": {},
   "outputs": [],
   "source": [
    "from selenium.webdriver.support.ui import Select\n",
    "from selenium.webdriver.support.select import Select\n",
    "from selenium.webdriver.common.keys import Keys\n",
    "from selenium import webdriver\n",
    "import time\n",
    "import pandas as pd"
   ]
  },
  {
   "cell_type": "code",
   "execution_count": 13,
   "id": "86333c2d",
   "metadata": {},
   "outputs": [],
   "source": [
    "# driver = webdriver.Chrome(executable_path= r'./chromedriver_win32/chromedriver')\n",
    "driver.get('https://www.mcdonalds.co.kr/kor/store/main.do')\n",
    "time.sleep(2)\n",
    "\n"
   ]
  },
  {
   "cell_type": "code",
   "execution_count": 14,
   "id": "a20fcd78",
   "metadata": {},
   "outputs": [
    {
     "name": "stdout",
     "output_type": "stream",
     "text": [
      "서울\n",
      "부산\n",
      "대구\n",
      "인천\n",
      "광주\n",
      "대전\n",
      "울산\n",
      "세종\n",
      "경기\n",
      "강원\n",
      "충북\n",
      "충남\n",
      "전북\n",
      "전남\n",
      "경북\n",
      "경남\n",
      "제주\n"
     ]
    }
   ],
   "source": [
    "id = [\"서울\",\"부산\",\"대구\",\"인천\",\"광주\",\"대전\",\"울산\",\"세종\",\"경기\",\"강원\",\"충북\",\"충남\",\"전북\",\"전남\",\"경북\",\"경남\",\"제주\"]\n",
    "\n",
    "name = []\n",
    "add1 = []\n",
    "add2 = []\n",
    "time1 = []\n",
    "\n",
    "for i in range(len(id)):\n",
    "    driver.get('https://www.mcdonalds.co.kr/kor/store/main.do')\n",
    "    time.sleep(2)\n",
    "#     driver.find_element_by_xpath('//*[@id=\"searchWord\"]').clear()\n",
    "    driver.find_element_by_xpath('//*[@id=\"searchWord\"]').send_keys(id[i])\n",
    "    driver.find_element_by_xpath('//*[@id=\"searchWord\"]').send_keys(Keys.ENTER)\n",
    "    print(id[i])\n",
    "    while True:\n",
    "        try:\n",
    "            for ind in range(1,11):\n",
    "                driver.find_element_by_xpath('//*[@id=\"container\"]/div[1]/div[2]/div/div/div[2]/div/span/a['+str(ind)+']').send_keys(Keys.ENTER)\n",
    "                for i in range(1,6):\n",
    "                    n = driver.find_element_by_xpath('//*[@id=\"container\"]/div[1]/div[2]/div/div/div[2]/table/tbody/tr['+str(i)+']/td[1]/dl/dt/strong/a').text\n",
    "                    a1 = driver.find_element_by_xpath('//*[@id=\"container\"]/div[1]/div[2]/div/div/div[2]/table/tbody/tr['+str(i)+']/td[1]/dl/dd[1]').text\n",
    "                    a2 = driver.find_element_by_xpath('//*[@id=\"container\"]/div[1]/div[2]/div/div/div[2]/table/tbody/tr['+str(i)+']/td[1]/dl/dd[2]').text\n",
    "                    t = driver.find_element_by_xpath('//*[@id=\"container\"]/div[1]/div[2]/div/div/div[2]/table/tbody/tr['+str(i)+']/td[3]').text\n",
    "    #                 if i==1:\n",
    "    #                     print(n,a1,a2,t)\n",
    "                    name.append(n)\n",
    "                    add1.append(a1)\n",
    "                    add2.append(a2)\n",
    "                    time1.append(t)\n",
    "            driver.find_element_by_xpath('//*[@id=\"container\"]/div[1]/div[2]/div/div/div[2]/div/a[3]').send_keys(Keys.ENTER)\n",
    "        except:\n",
    "            break"
   ]
  },
  {
   "cell_type": "code",
   "execution_count": 16,
   "id": "f96c651d",
   "metadata": {},
   "outputs": [
    {
     "name": "stdout",
     "output_type": "stream",
     "text": [
      "finish\n"
     ]
    },
    {
     "data": {
      "text/html": [
       "<div>\n",
       "<style scoped>\n",
       "    .dataframe tbody tr th:only-of-type {\n",
       "        vertical-align: middle;\n",
       "    }\n",
       "\n",
       "    .dataframe tbody tr th {\n",
       "        vertical-align: top;\n",
       "    }\n",
       "\n",
       "    .dataframe thead th {\n",
       "        text-align: right;\n",
       "    }\n",
       "</style>\n",
       "<table border=\"1\" class=\"dataframe\">\n",
       "  <thead>\n",
       "    <tr style=\"text-align: right;\">\n",
       "      <th></th>\n",
       "      <th>name</th>\n",
       "      <th>add1</th>\n",
       "      <th>add2</th>\n",
       "      <th>time</th>\n",
       "    </tr>\n",
       "  </thead>\n",
       "  <tbody>\n",
       "    <tr>\n",
       "      <th>0</th>\n",
       "      <td>강남 2호점</td>\n",
       "      <td>서울 강남구 역삼동 822-2</td>\n",
       "      <td>서울 강남구 테헤란로 107 메디타워2층</td>\n",
       "      <td>08:00~24:00</td>\n",
       "    </tr>\n",
       "    <tr>\n",
       "      <th>1</th>\n",
       "      <td>미아역</td>\n",
       "      <td>서울 강북구 미아동 197-5</td>\n",
       "      <td>서울 강북구 도봉로 204 미아역 맥도날드</td>\n",
       "      <td>07:00~02:00</td>\n",
       "    </tr>\n",
       "    <tr>\n",
       "      <th>2</th>\n",
       "      <td>마리오 아울렛</td>\n",
       "      <td>서울 금천구 가산동 60-22</td>\n",
       "      <td>서울 금천구 디지털로 185 마리오아울렛1</td>\n",
       "      <td>09:00~22:00</td>\n",
       "    </tr>\n",
       "    <tr>\n",
       "      <th>3</th>\n",
       "      <td>등촌 DT</td>\n",
       "      <td>서울 강서구 등촌동 630</td>\n",
       "      <td>서울 강서구 양천로 546</td>\n",
       "      <td>24시간</td>\n",
       "    </tr>\n",
       "    <tr>\n",
       "      <th>4</th>\n",
       "      <td>잠실역</td>\n",
       "      <td>서울 송파구 신천동 7-25</td>\n",
       "      <td>서울 송파구 송파대로 558</td>\n",
       "      <td>06:00 ~ 24:00</td>\n",
       "    </tr>\n",
       "    <tr>\n",
       "      <th>...</th>\n",
       "      <td>...</td>\n",
       "      <td>...</td>\n",
       "      <td>...</td>\n",
       "      <td>...</td>\n",
       "    </tr>\n",
       "    <tr>\n",
       "      <th>402</th>\n",
       "      <td>제주일도 DT</td>\n",
       "      <td>제주특별자치도 제주시 일도이동 369-11</td>\n",
       "      <td>제주특별자치도 제주시 동광로 134</td>\n",
       "      <td>24시간</td>\n",
       "    </tr>\n",
       "    <tr>\n",
       "      <th>403</th>\n",
       "      <td>제주공항DT점</td>\n",
       "      <td>제주특별자치도 제주시 용담이동 1787</td>\n",
       "      <td>제주특별자치도 제주시 도령로 159</td>\n",
       "      <td>08:00~24:00</td>\n",
       "    </tr>\n",
       "    <tr>\n",
       "      <th>404</th>\n",
       "      <td>제주월드컵스타디움DT</td>\n",
       "      <td>제주특별자치도 서귀포시 강정동 231-1</td>\n",
       "      <td>제주특별자치도 서귀포시 일주서로 7</td>\n",
       "      <td>07:00~24:00</td>\n",
       "    </tr>\n",
       "    <tr>\n",
       "      <th>405</th>\n",
       "      <td>제주중문DT</td>\n",
       "      <td>제주특별자치도 서귀포시 색달동 2558-1</td>\n",
       "      <td>제주특별자치도 서귀포시 중문관광로 38</td>\n",
       "      <td>08:00~23:00</td>\n",
       "    </tr>\n",
       "    <tr>\n",
       "      <th>406</th>\n",
       "      <td>제주도남DT</td>\n",
       "      <td>제주특별자치도 제주시 도남동 419</td>\n",
       "      <td>제주특별자치도 제주시 연북로 434</td>\n",
       "      <td>07:00~24:00</td>\n",
       "    </tr>\n",
       "  </tbody>\n",
       "</table>\n",
       "<p>407 rows × 4 columns</p>\n",
       "</div>"
      ],
      "text/plain": [
       "            name                     add1                     add2  \\\n",
       "0         강남 2호점         서울 강남구 역삼동 822-2   서울 강남구 테헤란로 107 메디타워2층   \n",
       "1            미아역         서울 강북구 미아동 197-5  서울 강북구 도봉로 204 미아역 맥도날드   \n",
       "2        마리오 아울렛         서울 금천구 가산동 60-22  서울 금천구 디지털로 185 마리오아울렛1   \n",
       "3          등촌 DT           서울 강서구 등촌동 630           서울 강서구 양천로 546   \n",
       "4            잠실역          서울 송파구 신천동 7-25          서울 송파구 송파대로 558   \n",
       "..           ...                      ...                      ...   \n",
       "402      제주일도 DT  제주특별자치도 제주시 일도이동 369-11      제주특별자치도 제주시 동광로 134   \n",
       "403      제주공항DT점    제주특별자치도 제주시 용담이동 1787      제주특별자치도 제주시 도령로 159   \n",
       "404  제주월드컵스타디움DT   제주특별자치도 서귀포시 강정동 231-1      제주특별자치도 서귀포시 일주서로 7   \n",
       "405       제주중문DT  제주특별자치도 서귀포시 색달동 2558-1    제주특별자치도 서귀포시 중문관광로 38   \n",
       "406       제주도남DT      제주특별자치도 제주시 도남동 419      제주특별자치도 제주시 연북로 434   \n",
       "\n",
       "              time  \n",
       "0      08:00~24:00  \n",
       "1      07:00~02:00  \n",
       "2      09:00~22:00  \n",
       "3             24시간  \n",
       "4    06:00 ~ 24:00  \n",
       "..             ...  \n",
       "402           24시간  \n",
       "403    08:00~24:00  \n",
       "404    07:00~24:00  \n",
       "405    08:00~23:00  \n",
       "406    07:00~24:00  \n",
       "\n",
       "[407 rows x 4 columns]"
      ]
     },
     "execution_count": 16,
     "metadata": {},
     "output_type": "execute_result"
    }
   ],
   "source": [
    "df = pd.DataFrame({'name':name,'add1':add1,'add2':add2,'time':time1})\n",
    "df.to_csv('dataset/mac_Korea.csv',index=False)\n",
    "print('finish')\n",
    "df\n"
   ]
  },
  {
   "cell_type": "code",
   "execution_count": null,
   "id": "4285d12a",
   "metadata": {},
   "outputs": [],
   "source": []
  }
 ],
 "metadata": {
  "kernelspec": {
   "display_name": "Python 3 (ipykernel)",
   "language": "python",
   "name": "python3"
  },
  "language_info": {
   "codemirror_mode": {
    "name": "ipython",
    "version": 3
   },
   "file_extension": ".py",
   "mimetype": "text/x-python",
   "name": "python",
   "nbconvert_exporter": "python",
   "pygments_lexer": "ipython3",
   "version": "3.9.12"
  }
 },
 "nbformat": 4,
 "nbformat_minor": 5
}
