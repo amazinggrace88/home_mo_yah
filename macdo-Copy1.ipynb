{
 "cells": [
  {
   "cell_type": "code",
   "execution_count": 1,
   "id": "698d9e6b",
   "metadata": {},
   "outputs": [
    {
     "data": {
      "text/html": [
       "<style>.container { width:100% !important; }</style>"
      ],
      "text/plain": [
       "<IPython.core.display.HTML object>"
      ]
     },
     "metadata": {},
     "output_type": "display_data"
    }
   ],
   "source": [
    "from IPython.display import display, HTML\n",
    "display(HTML(\"<style>.container { width:100% !important; }</style>\"))"
   ]
  },
  {
   "cell_type": "code",
   "execution_count": 2,
   "id": "caf40afe",
   "metadata": {},
   "outputs": [],
   "source": [
    "from selenium.webdriver.support.ui import Select\n",
    "from selenium.webdriver.support.select import Select\n",
    "from selenium.webdriver.common.keys import Keys\n",
    "from selenium import webdriver\n",
    "import time\n",
    "import pandas as pd"
   ]
  },
  {
   "cell_type": "code",
   "execution_count": 13,
   "id": "86333c2d",
   "metadata": {},
   "outputs": [],
   "source": [
    "# driver = webdriver.Chrome(executable_path= r'./chromedriver_win32/chromedriver')\n",
    "driver.get('https://www.burgerking.co.kr/')\n",
    "time.sleep(2)\n",
    "\n"
   ]
  },
  {
   "cell_type": "code",
   "execution_count": 14,
   "id": "1c48a866",
   "metadata": {},
   "outputs": [
    {
     "ename": "ElementNotInteractableException",
     "evalue": "Message: element not interactable\n  (Session info: chrome=93.0.4577.63)\n",
     "output_type": "error",
     "traceback": [
      "\u001b[1;31m---------------------------------------------------------------------------\u001b[0m",
      "\u001b[1;31mElementNotInteractableException\u001b[0m           Traceback (most recent call last)",
      "Input \u001b[1;32mIn [14]\u001b[0m, in \u001b[0;36m<cell line: 1>\u001b[1;34m()\u001b[0m\n\u001b[1;32m----> 1\u001b[0m \u001b[43mdriver\u001b[49m\u001b[38;5;241;43m.\u001b[39;49m\u001b[43mfind_element_by_xpath\u001b[49m\u001b[43m(\u001b[49m\u001b[38;5;124;43m'\u001b[39;49m\u001b[38;5;124;43m//*[@id=\u001b[39;49m\u001b[38;5;124;43m\"\u001b[39;49m\u001b[38;5;124;43mapp\u001b[39;49m\u001b[38;5;124;43m\"\u001b[39;49m\u001b[38;5;124;43m]/div/div[3]/div[6]/div/div/a/span\u001b[39;49m\u001b[38;5;124;43m'\u001b[39;49m\u001b[43m)\u001b[49m\u001b[38;5;241;43m.\u001b[39;49m\u001b[43msend_keys\u001b[49m\u001b[43m(\u001b[49m\u001b[43mKeys\u001b[49m\u001b[38;5;241;43m.\u001b[39;49m\u001b[43mENTER\u001b[49m\u001b[43m)\u001b[49m\n",
      "File \u001b[1;32m~\\Anaconda3\\lib\\site-packages\\selenium\\webdriver\\remote\\webelement.py:477\u001b[0m, in \u001b[0;36mWebElement.send_keys\u001b[1;34m(self, *value)\u001b[0m\n\u001b[0;32m    474\u001b[0m     \u001b[38;5;28;01mif\u001b[39;00m local_file \u001b[38;5;129;01mis\u001b[39;00m \u001b[38;5;129;01mnot\u001b[39;00m \u001b[38;5;28;01mNone\u001b[39;00m:\n\u001b[0;32m    475\u001b[0m         value \u001b[38;5;241m=\u001b[39m \u001b[38;5;28mself\u001b[39m\u001b[38;5;241m.\u001b[39m_upload(local_file)\n\u001b[1;32m--> 477\u001b[0m \u001b[38;5;28;43mself\u001b[39;49m\u001b[38;5;241;43m.\u001b[39;49m\u001b[43m_execute\u001b[49m\u001b[43m(\u001b[49m\u001b[43mCommand\u001b[49m\u001b[38;5;241;43m.\u001b[39;49m\u001b[43mSEND_KEYS_TO_ELEMENT\u001b[49m\u001b[43m,\u001b[49m\n\u001b[0;32m    478\u001b[0m \u001b[43m              \u001b[49m\u001b[43m{\u001b[49m\u001b[38;5;124;43m'\u001b[39;49m\u001b[38;5;124;43mtext\u001b[39;49m\u001b[38;5;124;43m'\u001b[39;49m\u001b[43m:\u001b[49m\u001b[43m \u001b[49m\u001b[38;5;124;43m\"\u001b[39;49m\u001b[38;5;124;43m\"\u001b[39;49m\u001b[38;5;241;43m.\u001b[39;49m\u001b[43mjoin\u001b[49m\u001b[43m(\u001b[49m\u001b[43mkeys_to_typing\u001b[49m\u001b[43m(\u001b[49m\u001b[43mvalue\u001b[49m\u001b[43m)\u001b[49m\u001b[43m)\u001b[49m\u001b[43m,\u001b[49m\n\u001b[0;32m    479\u001b[0m \u001b[43m               \u001b[49m\u001b[38;5;124;43m'\u001b[39;49m\u001b[38;5;124;43mvalue\u001b[39;49m\u001b[38;5;124;43m'\u001b[39;49m\u001b[43m:\u001b[49m\u001b[43m \u001b[49m\u001b[43mkeys_to_typing\u001b[49m\u001b[43m(\u001b[49m\u001b[43mvalue\u001b[49m\u001b[43m)\u001b[49m\u001b[43m}\u001b[49m\u001b[43m)\u001b[49m\n",
      "File \u001b[1;32m~\\Anaconda3\\lib\\site-packages\\selenium\\webdriver\\remote\\webelement.py:633\u001b[0m, in \u001b[0;36mWebElement._execute\u001b[1;34m(self, command, params)\u001b[0m\n\u001b[0;32m    631\u001b[0m     params \u001b[38;5;241m=\u001b[39m {}\n\u001b[0;32m    632\u001b[0m params[\u001b[38;5;124m'\u001b[39m\u001b[38;5;124mid\u001b[39m\u001b[38;5;124m'\u001b[39m] \u001b[38;5;241m=\u001b[39m \u001b[38;5;28mself\u001b[39m\u001b[38;5;241m.\u001b[39m_id\n\u001b[1;32m--> 633\u001b[0m \u001b[38;5;28;01mreturn\u001b[39;00m \u001b[38;5;28;43mself\u001b[39;49m\u001b[38;5;241;43m.\u001b[39;49m\u001b[43m_parent\u001b[49m\u001b[38;5;241;43m.\u001b[39;49m\u001b[43mexecute\u001b[49m\u001b[43m(\u001b[49m\u001b[43mcommand\u001b[49m\u001b[43m,\u001b[49m\u001b[43m \u001b[49m\u001b[43mparams\u001b[49m\u001b[43m)\u001b[49m\n",
      "File \u001b[1;32m~\\Anaconda3\\lib\\site-packages\\selenium\\webdriver\\remote\\webdriver.py:321\u001b[0m, in \u001b[0;36mWebDriver.execute\u001b[1;34m(self, driver_command, params)\u001b[0m\n\u001b[0;32m    319\u001b[0m response \u001b[38;5;241m=\u001b[39m \u001b[38;5;28mself\u001b[39m\u001b[38;5;241m.\u001b[39mcommand_executor\u001b[38;5;241m.\u001b[39mexecute(driver_command, params)\n\u001b[0;32m    320\u001b[0m \u001b[38;5;28;01mif\u001b[39;00m response:\n\u001b[1;32m--> 321\u001b[0m     \u001b[38;5;28;43mself\u001b[39;49m\u001b[38;5;241;43m.\u001b[39;49m\u001b[43merror_handler\u001b[49m\u001b[38;5;241;43m.\u001b[39;49m\u001b[43mcheck_response\u001b[49m\u001b[43m(\u001b[49m\u001b[43mresponse\u001b[49m\u001b[43m)\u001b[49m\n\u001b[0;32m    322\u001b[0m     response[\u001b[38;5;124m'\u001b[39m\u001b[38;5;124mvalue\u001b[39m\u001b[38;5;124m'\u001b[39m] \u001b[38;5;241m=\u001b[39m \u001b[38;5;28mself\u001b[39m\u001b[38;5;241m.\u001b[39m_unwrap_value(\n\u001b[0;32m    323\u001b[0m         response\u001b[38;5;241m.\u001b[39mget(\u001b[38;5;124m'\u001b[39m\u001b[38;5;124mvalue\u001b[39m\u001b[38;5;124m'\u001b[39m, \u001b[38;5;28;01mNone\u001b[39;00m))\n\u001b[0;32m    324\u001b[0m     \u001b[38;5;28;01mreturn\u001b[39;00m response\n",
      "File \u001b[1;32m~\\Anaconda3\\lib\\site-packages\\selenium\\webdriver\\remote\\errorhandler.py:242\u001b[0m, in \u001b[0;36mErrorHandler.check_response\u001b[1;34m(self, response)\u001b[0m\n\u001b[0;32m    240\u001b[0m         alert_text \u001b[38;5;241m=\u001b[39m value[\u001b[38;5;124m'\u001b[39m\u001b[38;5;124malert\u001b[39m\u001b[38;5;124m'\u001b[39m]\u001b[38;5;241m.\u001b[39mget(\u001b[38;5;124m'\u001b[39m\u001b[38;5;124mtext\u001b[39m\u001b[38;5;124m'\u001b[39m)\n\u001b[0;32m    241\u001b[0m     \u001b[38;5;28;01mraise\u001b[39;00m exception_class(message, screen, stacktrace, alert_text)\n\u001b[1;32m--> 242\u001b[0m \u001b[38;5;28;01mraise\u001b[39;00m exception_class(message, screen, stacktrace)\n",
      "\u001b[1;31mElementNotInteractableException\u001b[0m: Message: element not interactable\n  (Session info: chrome=93.0.4577.63)\n"
     ]
    }
   ],
   "source": [
    "driver.find_element_by_xpath('//*[@id=\"app\"]/div/div[3]/div[6]/div/div/a/span').send_keys(Keys.ENTER)\n",
    "# driver.find_element_by_xpath('//*[@id=\"app\"]/div/div[1]/div/div/div[2]/ul/li[2]/ul/li/a/span').send_keys(Keys.ENTER)\n",
    "\n"
   ]
  },
  {
   "cell_type": "code",
   "execution_count": 14,
   "id": "a20fcd78",
   "metadata": {},
   "outputs": [
    {
     "name": "stdout",
     "output_type": "stream",
     "text": [
      "서울\n",
      "부산\n",
      "대구\n",
      "인천\n",
      "광주\n",
      "대전\n",
      "울산\n",
      "세종\n",
      "경기\n",
      "강원\n",
      "충북\n",
      "충남\n",
      "전북\n",
      "전남\n",
      "경북\n",
      "경남\n",
      "제주\n"
     ]
    }
   ],
   "source": [
    "id = [\"서울\",\"부산\",\"대구\",\"인천\",\"광주\",\"대전\",\"울산\",\"세종\",\"경기\",\"강원\",\"충북\",\"충남\",\"전북\",\"전남\",\"경북\",\"경남\",\"제주\"]\n",
    "\n",
    "name = []\n",
    "add1 = []\n",
    "add2 = []\n",
    "time1 = []\n",
    "\n",
    "for i in range(len(id)):\n",
    "    driver.get('https://www.mcdonalds.co.kr/kor/store/main.do')\n",
    "    time.sleep(2)\n",
    "#     driver.find_element_by_xpath('//*[@id=\"searchWord\"]').clear()\n",
    "    driver.find_element_by_xpath('//*[@id=\"searchWord\"]').send_keys(id[i])\n",
    "    driver.find_element_by_xpath('//*[@id=\"searchWord\"]').send_keys(Keys.ENTER)\n",
    "    print(id[i])\n",
    "    while True:\n",
    "        try:\n",
    "            for ind in range(1,11):\n",
    "                driver.find_element_by_xpath('//*[@id=\"container\"]/div[1]/div[2]/div/div/div[2]/div/span/a['+str(ind)+']').send_keys(Keys.ENTER)\n",
    "                for i in range(1,6):\n",
    "                    n = driver.find_element_by_xpath('//*[@id=\"container\"]/div[1]/div[2]/div/div/div[2]/table/tbody/tr['+str(i)+']/td[1]/dl/dt/strong/a').text\n",
    "                    a1 = driver.find_element_by_xpath('//*[@id=\"container\"]/div[1]/div[2]/div/div/div[2]/table/tbody/tr['+str(i)+']/td[1]/dl/dd[1]').text\n",
    "                    a2 = driver.find_element_by_xpath('//*[@id=\"container\"]/div[1]/div[2]/div/div/div[2]/table/tbody/tr['+str(i)+']/td[1]/dl/dd[2]').text\n",
    "                    t = driver.find_element_by_xpath('//*[@id=\"container\"]/div[1]/div[2]/div/div/div[2]/table/tbody/tr['+str(i)+']/td[3]').text\n",
    "    #                 if i==1:\n",
    "    #                     print(n,a1,a2,t)\n",
    "                    name.append(n)\n",
    "                    add1.append(a1)\n",
    "                    add2.append(a2)\n",
    "                    time1.append(t)\n",
    "            driver.find_element_by_xpath('//*[@id=\"container\"]/div[1]/div[2]/div/div/div[2]/div/a[3]').send_keys(Keys.ENTER)\n",
    "        except:\n",
    "            break"
   ]
  },
  {
   "cell_type": "code",
   "execution_count": 16,
   "id": "f96c651d",
   "metadata": {},
   "outputs": [
    {
     "name": "stdout",
     "output_type": "stream",
     "text": [
      "finish\n"
     ]
    },
    {
     "data": {
      "text/html": [
       "<div>\n",
       "<style scoped>\n",
       "    .dataframe tbody tr th:only-of-type {\n",
       "        vertical-align: middle;\n",
       "    }\n",
       "\n",
       "    .dataframe tbody tr th {\n",
       "        vertical-align: top;\n",
       "    }\n",
       "\n",
       "    .dataframe thead th {\n",
       "        text-align: right;\n",
       "    }\n",
       "</style>\n",
       "<table border=\"1\" class=\"dataframe\">\n",
       "  <thead>\n",
       "    <tr style=\"text-align: right;\">\n",
       "      <th></th>\n",
       "      <th>name</th>\n",
       "      <th>add1</th>\n",
       "      <th>add2</th>\n",
       "      <th>time</th>\n",
       "    </tr>\n",
       "  </thead>\n",
       "  <tbody>\n",
       "    <tr>\n",
       "      <th>0</th>\n",
       "      <td>강남 2호점</td>\n",
       "      <td>서울 강남구 역삼동 822-2</td>\n",
       "      <td>서울 강남구 테헤란로 107 메디타워2층</td>\n",
       "      <td>08:00~24:00</td>\n",
       "    </tr>\n",
       "    <tr>\n",
       "      <th>1</th>\n",
       "      <td>미아역</td>\n",
       "      <td>서울 강북구 미아동 197-5</td>\n",
       "      <td>서울 강북구 도봉로 204 미아역 맥도날드</td>\n",
       "      <td>07:00~02:00</td>\n",
       "    </tr>\n",
       "    <tr>\n",
       "      <th>2</th>\n",
       "      <td>마리오 아울렛</td>\n",
       "      <td>서울 금천구 가산동 60-22</td>\n",
       "      <td>서울 금천구 디지털로 185 마리오아울렛1</td>\n",
       "      <td>09:00~22:00</td>\n",
       "    </tr>\n",
       "    <tr>\n",
       "      <th>3</th>\n",
       "      <td>등촌 DT</td>\n",
       "      <td>서울 강서구 등촌동 630</td>\n",
       "      <td>서울 강서구 양천로 546</td>\n",
       "      <td>24시간</td>\n",
       "    </tr>\n",
       "    <tr>\n",
       "      <th>4</th>\n",
       "      <td>잠실역</td>\n",
       "      <td>서울 송파구 신천동 7-25</td>\n",
       "      <td>서울 송파구 송파대로 558</td>\n",
       "      <td>06:00 ~ 24:00</td>\n",
       "    </tr>\n",
       "    <tr>\n",
       "      <th>...</th>\n",
       "      <td>...</td>\n",
       "      <td>...</td>\n",
       "      <td>...</td>\n",
       "      <td>...</td>\n",
       "    </tr>\n",
       "    <tr>\n",
       "      <th>402</th>\n",
       "      <td>제주일도 DT</td>\n",
       "      <td>제주특별자치도 제주시 일도이동 369-11</td>\n",
       "      <td>제주특별자치도 제주시 동광로 134</td>\n",
       "      <td>24시간</td>\n",
       "    </tr>\n",
       "    <tr>\n",
       "      <th>403</th>\n",
       "      <td>제주공항DT점</td>\n",
       "      <td>제주특별자치도 제주시 용담이동 1787</td>\n",
       "      <td>제주특별자치도 제주시 도령로 159</td>\n",
       "      <td>08:00~24:00</td>\n",
       "    </tr>\n",
       "    <tr>\n",
       "      <th>404</th>\n",
       "      <td>제주월드컵스타디움DT</td>\n",
       "      <td>제주특별자치도 서귀포시 강정동 231-1</td>\n",
       "      <td>제주특별자치도 서귀포시 일주서로 7</td>\n",
       "      <td>07:00~24:00</td>\n",
       "    </tr>\n",
       "    <tr>\n",
       "      <th>405</th>\n",
       "      <td>제주중문DT</td>\n",
       "      <td>제주특별자치도 서귀포시 색달동 2558-1</td>\n",
       "      <td>제주특별자치도 서귀포시 중문관광로 38</td>\n",
       "      <td>08:00~23:00</td>\n",
       "    </tr>\n",
       "    <tr>\n",
       "      <th>406</th>\n",
       "      <td>제주도남DT</td>\n",
       "      <td>제주특별자치도 제주시 도남동 419</td>\n",
       "      <td>제주특별자치도 제주시 연북로 434</td>\n",
       "      <td>07:00~24:00</td>\n",
       "    </tr>\n",
       "  </tbody>\n",
       "</table>\n",
       "<p>407 rows × 4 columns</p>\n",
       "</div>"
      ],
      "text/plain": [
       "            name                     add1                     add2  \\\n",
       "0         강남 2호점         서울 강남구 역삼동 822-2   서울 강남구 테헤란로 107 메디타워2층   \n",
       "1            미아역         서울 강북구 미아동 197-5  서울 강북구 도봉로 204 미아역 맥도날드   \n",
       "2        마리오 아울렛         서울 금천구 가산동 60-22  서울 금천구 디지털로 185 마리오아울렛1   \n",
       "3          등촌 DT           서울 강서구 등촌동 630           서울 강서구 양천로 546   \n",
       "4            잠실역          서울 송파구 신천동 7-25          서울 송파구 송파대로 558   \n",
       "..           ...                      ...                      ...   \n",
       "402      제주일도 DT  제주특별자치도 제주시 일도이동 369-11      제주특별자치도 제주시 동광로 134   \n",
       "403      제주공항DT점    제주특별자치도 제주시 용담이동 1787      제주특별자치도 제주시 도령로 159   \n",
       "404  제주월드컵스타디움DT   제주특별자치도 서귀포시 강정동 231-1      제주특별자치도 서귀포시 일주서로 7   \n",
       "405       제주중문DT  제주특별자치도 서귀포시 색달동 2558-1    제주특별자치도 서귀포시 중문관광로 38   \n",
       "406       제주도남DT      제주특별자치도 제주시 도남동 419      제주특별자치도 제주시 연북로 434   \n",
       "\n",
       "              time  \n",
       "0      08:00~24:00  \n",
       "1      07:00~02:00  \n",
       "2      09:00~22:00  \n",
       "3             24시간  \n",
       "4    06:00 ~ 24:00  \n",
       "..             ...  \n",
       "402           24시간  \n",
       "403    08:00~24:00  \n",
       "404    07:00~24:00  \n",
       "405    08:00~23:00  \n",
       "406    07:00~24:00  \n",
       "\n",
       "[407 rows x 4 columns]"
      ]
     },
     "execution_count": 16,
     "metadata": {},
     "output_type": "execute_result"
    }
   ],
   "source": [
    "df = pd.DataFrame({'name':name,'add1':add1,'add2':add2,'time':time1})\n",
    "df.to_csv('dataset/mac_Korea.csv',index=False)\n",
    "print('finish')\n",
    "df\n"
   ]
  },
  {
   "cell_type": "code",
   "execution_count": null,
   "id": "4285d12a",
   "metadata": {},
   "outputs": [],
   "source": []
  }
 ],
 "metadata": {
  "kernelspec": {
   "display_name": "Python 3 (ipykernel)",
   "language": "python",
   "name": "python3"
  },
  "language_info": {
   "codemirror_mode": {
    "name": "ipython",
    "version": 3
   },
   "file_extension": ".py",
   "mimetype": "text/x-python",
   "name": "python",
   "nbconvert_exporter": "python",
   "pygments_lexer": "ipython3",
   "version": "3.9.12"
  }
 },
 "nbformat": 4,
 "nbformat_minor": 5
}
